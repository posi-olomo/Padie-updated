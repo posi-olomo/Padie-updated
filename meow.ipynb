{
 "cells": [
  {
   "cell_type": "code",
   "execution_count": 1,
   "id": "42657161",
   "metadata": {},
   "outputs": [],
   "source": [
    "import pandas as pd\n",
    "import numpy as np\n",
    "from sklearn.model_selection import train_test_split"
   ]
  },
  {
   "cell_type": "markdown",
   "id": "cf671d2f",
   "metadata": {},
   "source": [
    "def split_data(input_file, train_set, test_set):"
   ]
  },
  {
   "cell_type": "code",
   "execution_count": 2,
   "id": "2f45dbf0",
   "metadata": {},
   "outputs": [
    {
     "data": {
      "text/html": [
       "<div>\n",
       "<style scoped>\n",
       "    .dataframe tbody tr th:only-of-type {\n",
       "        vertical-align: middle;\n",
       "    }\n",
       "\n",
       "    .dataframe tbody tr th {\n",
       "        vertical-align: top;\n",
       "    }\n",
       "\n",
       "    .dataframe thead th {\n",
       "        text-align: right;\n",
       "    }\n",
       "</style>\n",
       "<table border=\"1\" class=\"dataframe\">\n",
       "  <thead>\n",
       "    <tr style=\"text-align: right;\">\n",
       "      <th></th>\n",
       "      <th>text</th>\n",
       "      <th>label</th>\n",
       "      <th>format</th>\n",
       "      <th>source</th>\n",
       "      <th>citation</th>\n",
       "    </tr>\n",
       "  </thead>\n",
       "  <tbody>\n",
       "    <tr>\n",
       "      <th>0</th>\n",
       "      <td>Oro Yoruba so pe, Ore dani ko to pon, abinibi ...</td>\n",
       "      <td>yoruba</td>\n",
       "      <td>file</td>\n",
       "      <td>{'provider': 'Niger-Volta Language Technologie...</td>\n",
       "      <td>c2</td>\n",
       "    </tr>\n",
       "    <tr>\n",
       "      <th>1</th>\n",
       "      <td>A mo pe iko to gbayi ni Naijiria, won ma maa l...</td>\n",
       "      <td>yoruba</td>\n",
       "      <td>article</td>\n",
       "      <td>{'provider': 'BBC', 'url': 'https://www.bbc.co...</td>\n",
       "      <td>None</td>\n",
       "    </tr>\n",
       "    <tr>\n",
       "      <th>2</th>\n",
       "      <td>Igba mesan-an ni egbe agbaboolu obinrin Naijir...</td>\n",
       "      <td>yoruba</td>\n",
       "      <td>article</td>\n",
       "      <td>{'provider': 'BBC', 'url': 'https://www.bbc.co...</td>\n",
       "      <td>None</td>\n",
       "    </tr>\n",
       "    <tr>\n",
       "      <th>3</th>\n",
       "      <td>Opolopo odo aye ode oni ti ko asa fi fe iyawo ...</td>\n",
       "      <td>yoruba</td>\n",
       "      <td>file</td>\n",
       "      <td>{'provider': 'Niger-Volta Language Technologie...</td>\n",
       "      <td>c2</td>\n",
       "    </tr>\n",
       "    <tr>\n",
       "      <th>4</th>\n",
       "      <td>Ka ma gbagbe, isele kan wa to ti bere si ni gb...</td>\n",
       "      <td>yoruba</td>\n",
       "      <td>article</td>\n",
       "      <td>{'provider': 'BBC', 'url': 'https://www.bbc.co...</td>\n",
       "      <td>None</td>\n",
       "    </tr>\n",
       "  </tbody>\n",
       "</table>\n",
       "</div>"
      ],
      "text/plain": [
       "                                                text   label   format  \\\n",
       "0  Oro Yoruba so pe, Ore dani ko to pon, abinibi ...  yoruba     file   \n",
       "1  A mo pe iko to gbayi ni Naijiria, won ma maa l...  yoruba  article   \n",
       "2  Igba mesan-an ni egbe agbaboolu obinrin Naijir...  yoruba  article   \n",
       "3  Opolopo odo aye ode oni ti ko asa fi fe iyawo ...  yoruba     file   \n",
       "4  Ka ma gbagbe, isele kan wa to ti bere si ni gb...  yoruba  article   \n",
       "\n",
       "                                              source citation  \n",
       "0  {'provider': 'Niger-Volta Language Technologie...       c2  \n",
       "1  {'provider': 'BBC', 'url': 'https://www.bbc.co...     None  \n",
       "2  {'provider': 'BBC', 'url': 'https://www.bbc.co...     None  \n",
       "3  {'provider': 'Niger-Volta Language Technologie...       c2  \n",
       "4  {'provider': 'BBC', 'url': 'https://www.bbc.co...     None  "
      ]
     },
     "execution_count": 2,
     "metadata": {},
     "output_type": "execute_result"
    }
   ],
   "source": [
    "\n",
    "df = pd.read_json(\"./datasets/language_detection/merged_dataset.jsonl\", lines=True)\n",
    "df.head()\n",
    "\n"
   ]
  },
  {
   "cell_type": "code",
   "execution_count": 3,
   "id": "21bea698",
   "metadata": {},
   "outputs": [
    {
     "data": {
      "text/plain": [
       "540"
      ]
     },
     "execution_count": 3,
     "metadata": {},
     "output_type": "execute_result"
    }
   ],
   "source": [
    "df[\"text\"].duplicated().sum()"
   ]
  },
  {
   "cell_type": "code",
   "execution_count": null,
   "id": "3a7c02b9",
   "metadata": {},
   "outputs": [],
   "source": []
  },
  {
   "cell_type": "code",
   "execution_count": null,
   "id": "0d2cea5a",
   "metadata": {},
   "outputs": [
    {
     "data": {
      "text/plain": [
       "0"
      ]
     },
     "execution_count": 31,
     "metadata": {},
     "output_type": "execute_result"
    }
   ],
   "source": []
  },
  {
   "cell_type": "code",
   "execution_count": 13,
   "id": "a307a46c",
   "metadata": {},
   "outputs": [
    {
     "data": {
      "text/html": [
       "<div>\n",
       "<style scoped>\n",
       "    .dataframe tbody tr th:only-of-type {\n",
       "        vertical-align: middle;\n",
       "    }\n",
       "\n",
       "    .dataframe tbody tr th {\n",
       "        vertical-align: top;\n",
       "    }\n",
       "\n",
       "    .dataframe thead th {\n",
       "        text-align: right;\n",
       "    }\n",
       "</style>\n",
       "<table border=\"1\" class=\"dataframe\">\n",
       "  <thead>\n",
       "    <tr style=\"text-align: right;\">\n",
       "      <th></th>\n",
       "      <th>text</th>\n",
       "      <th>label</th>\n",
       "      <th>format</th>\n",
       "      <th>source</th>\n",
       "      <th>citation</th>\n",
       "    </tr>\n",
       "  </thead>\n",
       "  <tbody>\n",
       "    <tr>\n",
       "      <th>1079</th>\n",
       "      <td>This article contains content provided by Twit...</td>\n",
       "      <td>yoruba</td>\n",
       "      <td>article</td>\n",
       "      <td>{'provider': 'BBC', 'url': 'https://www.bbc.co...</td>\n",
       "      <td>None</td>\n",
       "    </tr>\n",
       "    <tr>\n",
       "      <th>3022</th>\n",
       "      <td>This article contains content provided by Twit...</td>\n",
       "      <td>yoruba</td>\n",
       "      <td>article</td>\n",
       "      <td>{'provider': 'BBC', 'url': 'https://www.bbc.co...</td>\n",
       "      <td>None</td>\n",
       "    </tr>\n",
       "    <tr>\n",
       "      <th>3277</th>\n",
       "      <td>This article contains content provided by Twit...</td>\n",
       "      <td>yoruba</td>\n",
       "      <td>article</td>\n",
       "      <td>{'provider': 'BBC', 'url': 'https://www.bbc.co...</td>\n",
       "      <td>None</td>\n",
       "    </tr>\n",
       "    <tr>\n",
       "      <th>5295</th>\n",
       "      <td>Orisun aworan, Getty Images</td>\n",
       "      <td>yoruba</td>\n",
       "      <td>article</td>\n",
       "      <td>{'provider': 'BBC', 'url': 'https://www.bbc.co...</td>\n",
       "      <td>None</td>\n",
       "    </tr>\n",
       "    <tr>\n",
       "      <th>6578</th>\n",
       "      <td>This article contains content provided by Twit...</td>\n",
       "      <td>yoruba</td>\n",
       "      <td>article</td>\n",
       "      <td>{'provider': 'BBC', 'url': 'https://www.bbc.co...</td>\n",
       "      <td>None</td>\n",
       "    </tr>\n",
       "  </tbody>\n",
       "</table>\n",
       "</div>"
      ],
      "text/plain": [
       "                                                   text   label   format  \\\n",
       "1079  This article contains content provided by Twit...  yoruba  article   \n",
       "3022  This article contains content provided by Twit...  yoruba  article   \n",
       "3277  This article contains content provided by Twit...  yoruba  article   \n",
       "5295                        Orisun aworan, Getty Images  yoruba  article   \n",
       "6578  This article contains content provided by Twit...  yoruba  article   \n",
       "\n",
       "                                                 source citation  \n",
       "1079  {'provider': 'BBC', 'url': 'https://www.bbc.co...     None  \n",
       "3022  {'provider': 'BBC', 'url': 'https://www.bbc.co...     None  \n",
       "3277  {'provider': 'BBC', 'url': 'https://www.bbc.co...     None  \n",
       "5295  {'provider': 'BBC', 'url': 'https://www.bbc.co...     None  \n",
       "6578  {'provider': 'BBC', 'url': 'https://www.bbc.co...     None  "
      ]
     },
     "execution_count": 13,
     "metadata": {},
     "output_type": "execute_result"
    }
   ],
   "source": [
    "duplicates = df[df[\"text\"].duplicated() == True]\n",
    "duplicates.head()"
   ]
  },
  {
   "cell_type": "code",
   "execution_count": 20,
   "id": "b268a4ea",
   "metadata": {},
   "outputs": [
    {
     "data": {
      "text/plain": [
       "\"This article contains content provided by Twitter. We ask for your permission before anything is loaded, as they may be using cookies and other technologies. You may want to read Twitter cookie policy and privacy policy before accepting. To view this content choose 'accept and continue'.\""
      ]
     },
     "execution_count": 20,
     "metadata": {},
     "output_type": "execute_result"
    }
   ],
   "source": [
    "duplicates[\"text\"].iloc[0]"
   ]
  },
  {
   "cell_type": "code",
   "execution_count": 32,
   "id": "1c870635",
   "metadata": {},
   "outputs": [
    {
     "data": {
      "text/html": [
       "<div>\n",
       "<style scoped>\n",
       "    .dataframe tbody tr th:only-of-type {\n",
       "        vertical-align: middle;\n",
       "    }\n",
       "\n",
       "    .dataframe tbody tr th {\n",
       "        vertical-align: top;\n",
       "    }\n",
       "\n",
       "    .dataframe thead th {\n",
       "        text-align: right;\n",
       "    }\n",
       "</style>\n",
       "<table border=\"1\" class=\"dataframe\">\n",
       "  <thead>\n",
       "    <tr style=\"text-align: right;\">\n",
       "      <th></th>\n",
       "      <th>text</th>\n",
       "      <th>label</th>\n",
       "      <th>format</th>\n",
       "      <th>source</th>\n",
       "      <th>citation</th>\n",
       "    </tr>\n",
       "  </thead>\n",
       "  <tbody>\n",
       "    <tr>\n",
       "      <th>179</th>\n",
       "      <td>This article contains content provided by Twit...</td>\n",
       "      <td>yoruba</td>\n",
       "      <td>article</td>\n",
       "      <td>{'provider': 'BBC', 'url': 'https://www.bbc.co...</td>\n",
       "      <td>None</td>\n",
       "    </tr>\n",
       "  </tbody>\n",
       "</table>\n",
       "</div>"
      ],
      "text/plain": [
       "                                                  text   label   format  \\\n",
       "179  This article contains content provided by Twit...  yoruba  article   \n",
       "\n",
       "                                                source citation  \n",
       "179  {'provider': 'BBC', 'url': 'https://www.bbc.co...     None  "
      ]
     },
     "execution_count": 32,
     "metadata": {},
     "output_type": "execute_result"
    }
   ],
   "source": [
    "df[df[\"text\"].str.contains(\"This article contains content provided by Twitter. We ask for your permission before anything is loaded\", case = False)]"
   ]
  },
  {
   "cell_type": "code",
   "execution_count": 4,
   "id": "1c93fb39",
   "metadata": {},
   "outputs": [
    {
     "data": {
      "text/plain": [
       "array(['yoruba', 'igbo', 'hausa', 'english', 'pidgin'], dtype=object)"
      ]
     },
     "execution_count": 4,
     "metadata": {},
     "output_type": "execute_result"
    }
   ],
   "source": [
    "df[\"label\"].unique()"
   ]
  },
  {
   "cell_type": "code",
   "execution_count": 7,
   "id": "53b8e256",
   "metadata": {},
   "outputs": [
    {
     "name": "stderr",
     "output_type": "stream",
     "text": [
      "/tmp/ipykernel_2037/4115833663.py:7: UserWarning: This pattern is interpreted as a regular expression, and has match groups. To actually get the groups, use str.extract.\n",
      "  mask = df[\"label\"].eq(\"hausa\") & df[\"text\"].str.contains(pattern, case=False, regex=True)\n"
     ]
    },
    {
     "name": "stdout",
     "output_type": "stream",
     "text": [
      "                                                    text  label   format  \\\n",
      "26603  Game da faɗa kuma, ta ce a iya saninta bai taɓ...  hausa  article   \n",
      "26604  Sai kuma a 2004, shekara ɗaya bayan Amurka ta ...  hausa  article   \n",
      "26887  Shugaban Najeriya Bola Tinubu ya sanya hannu k...  hausa  article   \n",
      "26966  Duk da haka, masana kimiyya da yawa sun yi ima...  hausa  article   \n",
      "27347  Har yanzu ba a san inda 'ya'yansa shida suke b...  hausa  article   \n",
      "27773  Haka shi ma Deji Adeyanju ɗaya daga cikin lauy...  hausa  article   \n",
      "27797  Mun samu wuri a wani ɗakin karatu inda muka yi...  hausa  article   \n",
      "28152  Sai dai Umm Hudaifa ba ta wurin - tana zaune a...  hausa  article   \n",
      "28318  Bayan lamarin tsaro ya taɓarɓare a arewa maso ...  hausa  article   \n",
      "28807  Wani kwararren masanin IT a sararin samaniyar ...  hausa  article   \n",
      "29279  Wata majiya a ɓangaren tsaro a Iraƙi ta faɗa m...  hausa  article   \n",
      "29475  Tuni aka san irin rashin imanin ƙungiyoyin da ...  hausa  article   \n",
      "29550  Albarkacin Ranar Ruwa ta Duniya, Muhammad Must...  hausa  article   \n",
      "29878  Bayan da ya sauke mahaifin nasa ya ƙara kai sh...  hausa  article   \n",
      "29928  Shugaban asibitin koyarwa na Goa Medical Colla...  hausa  article   \n",
      "29952  Wata tawagar Majalisar Ɗinkin Duniya ta gano c...  hausa  article   \n",
      "30237  Dokta Muhsin Ibrahim, malami a Jami'ar Cologne...  hausa  article   \n",
      "30752  Lisa Mandell daga kungiyar Ƙwararrun masu ba d...  hausa  article   \n",
      "\n",
      "                                                  source citation  \n",
      "26603  {'provider': 'BBC', 'url': 'https://www.bbc.co...     None  \n",
      "26604  {'provider': 'BBC', 'url': 'https://www.bbc.co...     None  \n",
      "26887  {'provider': 'BBC', 'url': 'https://www.bbc.co...     None  \n",
      "26966  {'provider': 'BBC', 'url': 'https://www.bbc.co...     None  \n",
      "27347  {'provider': 'BBC', 'url': 'https://www.bbc.co...     None  \n",
      "27773  {'provider': 'BBC', 'url': 'https://www.bbc.co...     None  \n",
      "27797  {'provider': 'BBC', 'url': 'https://www.bbc.co...     None  \n",
      "28152  {'provider': 'BBC', 'url': 'https://www.bbc.co...     None  \n",
      "28318  {'provider': 'BBC', 'url': 'https://www.bbc.co...     None  \n",
      "28807  {'provider': 'BBC', 'url': 'https://www.bbc.co...     None  \n",
      "29279  {'provider': 'BBC', 'url': 'https://www.bbc.co...     None  \n",
      "29475  {'provider': 'BBC', 'url': 'https://www.bbc.co...     None  \n",
      "29550  {'provider': 'BBC', 'url': 'https://www.bbc.co...     None  \n",
      "29878  {'provider': 'BBC', 'url': 'https://www.bbc.co...     None  \n",
      "29928  {'provider': 'BBC', 'url': 'https://www.bbc.co...     None  \n",
      "29952  {'provider': 'BBC', 'url': 'https://www.bbc.co...     None  \n",
      "30237  {'provider': 'BBC', 'url': 'https://www.bbc.co...     None  \n",
      "30752  {'provider': 'BBC', 'url': 'https://www.bbc.co...     None  \n"
     ]
    }
   ],
   "source": [
    "eng_words = [\"The\", \"This\", \"it\", \"We\", \"It\", \"She\", \"He\", \"is\"]\n",
    "\n",
    "# word boundaries so 'is' doesn't match inside words\n",
    "pattern = r\"\\b(\" + \"|\".join(eng_words) + r\")\\b\"\n",
    "\n",
    "# Change eq(\"language\")\n",
    "mask = df[\"label\"].eq(\"hausa\") & df[\"text\"].str.contains(pattern, case=False, regex=True)\n",
    "\n",
    "# Print matching entries\n",
    "# print(len(df[mask])) \n",
    "# yoruba: 173\n",
    "# igbo: 142\n",
    "# hausa: 38\n",
    "print(df[mask][20:40])"
   ]
  },
  {
   "cell_type": "code",
   "execution_count": 9,
   "id": "4bb75e65",
   "metadata": {},
   "outputs": [
    {
     "name": "stdout",
     "output_type": "stream",
     "text": [
      "yoruba: 22610\n",
      "igbo: 21126\n",
      "hausa: 9493\n",
      "english: 9235\n",
      "pidgin: 14577\n"
     ]
    }
   ],
   "source": [
    "for language in df[\"label\"].unique():\n",
    "    print(f\"{language}: {len(df[df[\"label\"]==language])}\")"
   ]
  },
  {
   "cell_type": "code",
   "execution_count": 8,
   "id": "bd0b0b3b",
   "metadata": {},
   "outputs": [
    {
     "name": "stdout",
     "output_type": "stream",
     "text": [
      "77041\n"
     ]
    }
   ],
   "source": [
    "drop_list = [\"To view this content choose\", \"I write to offer my warmest congratulations on your election\", \"We will continue to hunt for\", \"The pastor intervened in the\", \"Reports say the couple was having\", \"We were told that the priest\", \"Izunna Okafor is a lover of the Igbo language\", \"The government of Canada is not considering\", \"Osun State Police Spokesperson,\",\"body has been deposited\", \"Reports say the man stabbed the priest\", \"The Dugbe Division Police rushed to the scene\", \"Her husband stabbed her several times before\", \"But the claimants say the tech firm recorded\", \"The 52-year-old pastor\", \"The Osun State Police Command has\", \"We praise God in this war for Prophet Mohammed\", \"She scored 18 goals\"]\n",
    "drop_index = [4181, 5869, 5302, 10144, 10420, 10996, 42656, 44365, 46101, 47225, 47792, 52072, 52348, 52542, 52688]\n",
    "print(len(df))"
   ]
  },
  {
   "cell_type": "code",
   "execution_count": 10,
   "id": "74e69f2d",
   "metadata": {},
   "outputs": [
    {
     "name": "stdout",
     "output_type": "stream",
     "text": [
      "Remaining rows: 76976\n"
     ]
    }
   ],
   "source": [
    "# Step 1: drop rows by index\n",
    "df = df.drop(index=drop_index, errors=\"ignore\")\n",
    "\n",
    "# Step 2: drop rows containing any unwanted phrase in 'text'\n",
    "pattern = \"|\".join(map(repr, drop_list))  # ensures proper escaping\n",
    "pattern = \"|\".join(map(repr, drop_list)).replace(\"'\", \"\")  # cleaner regex without quotes\n",
    "\n",
    "mask = df[\"text\"].str.contains(pattern, case=False, regex=True, na=False)\n",
    "df = df[~mask]\n",
    "\n",
    "# Reset index if needed\n",
    "df = df.reset_index(drop=True)\n",
    "\n",
    "print(f\"Remaining rows: {len(df)}\")"
   ]
  },
  {
   "cell_type": "code",
   "execution_count": 11,
   "id": "c4b1aba5",
   "metadata": {},
   "outputs": [
    {
     "name": "stdout",
     "output_type": "stream",
     "text": [
      "yoruba: 22579\n",
      "igbo: 21092\n",
      "hausa: 9493\n",
      "english: 9235\n",
      "pidgin: 14577\n"
     ]
    }
   ],
   "source": [
    "for language in df[\"label\"].unique():\n",
    "    print(f\"{language}: {len(df[df[\"label\"]==language])}\")"
   ]
  },
  {
   "cell_type": "code",
   "execution_count": 16,
   "id": "66e20750",
   "metadata": {},
   "outputs": [
    {
     "data": {
      "text/plain": [
       "504"
      ]
     },
     "execution_count": 16,
     "metadata": {},
     "output_type": "execute_result"
    }
   ],
   "source": [
    "df[\"text\"].duplicated().sum()"
   ]
  },
  {
   "cell_type": "code",
   "execution_count": 17,
   "id": "2ff65df6",
   "metadata": {},
   "outputs": [
    {
     "data": {
      "text/plain": [
       "0"
      ]
     },
     "execution_count": 17,
     "metadata": {},
     "output_type": "execute_result"
    }
   ],
   "source": [
    "df = df.drop_duplicates(subset = [\"text\"])\n",
    "df[\"text\"].duplicated().sum()"
   ]
  },
  {
   "cell_type": "code",
   "execution_count": 19,
   "id": "69de777b",
   "metadata": {},
   "outputs": [
    {
     "data": {
      "text/plain": [
       "76472"
      ]
     },
     "execution_count": 19,
     "metadata": {},
     "output_type": "execute_result"
    }
   ],
   "source": [
    "len(df)"
   ]
  },
  {
   "cell_type": "code",
   "execution_count": 18,
   "id": "ba9b7666",
   "metadata": {},
   "outputs": [],
   "source": [
    "train_dataset, eval_dataset = train_test_split(df, test_size = 0.2, random_state= 42)"
   ]
  },
  {
   "cell_type": "code",
   "execution_count": 20,
   "id": "a3407568",
   "metadata": {},
   "outputs": [],
   "source": [
    "import json\n",
    "\n",
    "df.to_json(\"./datasets/language_detection/cleaned_dataset.jsonl\", \n",
    "           orient=\"records\",\n",
    "           lines = True,\n",
    "           force_ascii = False)\n",
    "train_dataset.to_json(\"./datasets/language_detection/train_dataset.jsonl\", \n",
    "           orient=\"records\",\n",
    "           lines = True,\n",
    "           force_ascii = False)\n",
    "eval_dataset.to_json(\"./datasets/language_detection/eval_dataset.jsonl\", \n",
    "           orient=\"records\",\n",
    "           lines = True,\n",
    "           force_ascii = False)"
   ]
  },
  {
   "cell_type": "code",
   "execution_count": 23,
   "id": "1d930dac",
   "metadata": {},
   "outputs": [
    {
     "name": "stderr",
     "output_type": "stream",
     "text": [
      "Generating train split: 15295 examples [00:00, 448802.85 examples/s]"
     ]
    },
    {
     "name": "stdout",
     "output_type": "stream",
     "text": [
      "DatasetDict({\n",
      "    train: Dataset({\n",
      "        features: ['text', 'label', 'format', 'source', 'citation'],\n",
      "        num_rows: 15295\n",
      "    })\n",
      "})\n"
     ]
    },
    {
     "name": "stderr",
     "output_type": "stream",
     "text": [
      "\n"
     ]
    }
   ],
   "source": [
    "from datasets import load_dataset\n",
    "\n",
    "dataset = load_dataset(\"json\", data_files=\"./datasets/language_detection/eval_dataset.jsonl\")\n",
    "print(dataset)"
   ]
  },
  {
   "cell_type": "code",
   "execution_count": 24,
   "id": "c583ef8a",
   "metadata": {},
   "outputs": [
    {
     "name": "stdout",
     "output_type": "stream",
     "text": [
      "{0: 'english', 1: 'pidgin', 2: 'yoruba', 3: 'igbo', 4: 'hausa'}\n"
     ]
    }
   ],
   "source": [
    "LANGUAGES = [\"english\", \"pidgin\", \"yoruba\", \"igbo\", \"hausa\"]\n",
    "label_mapping = {i: lang for i, lang in enumerate(LANGUAGES)} \n",
    "print(label_mapping)"
   ]
  },
  {
   "cell_type": "code",
   "execution_count": 26,
   "id": "d14b9940",
   "metadata": {},
   "outputs": [
    {
     "name": "stdout",
     "output_type": "stream",
     "text": [
      "{'english': 0, 'pidgin': 1, 'yoruba': 2, 'igbo': 3, 'hausa': 4}\n"
     ]
    }
   ],
   "source": [
    "id2label = {v: k for k, v in label_mapping.items()}\n",
    "print(id2label)"
   ]
  },
  {
   "cell_type": "code",
   "execution_count": null,
   "id": "a3e5aad6",
   "metadata": {},
   "outputs": [],
   "source": [
    "# df[df[\"text\"].str.contains(\"To view this content choose\")] #16\n",
    "# df[df[\"text\"].str.contains(\"But Covington's fortunes changed when Usman\")] #2\n",
    "# df[df[\"text\"].str.contains(\"I write to offer my warmest congratulations on your election\")] #2\n",
    "# df[df[\"text\"].str.contains(\"We were told that the priest\")] #2\n",
    "# df[df[\"text\"].str.contains(\"Izunna Okafor is a lover of the Igbo language.\")] #2"
   ]
  }
 ],
 "metadata": {
  "kernelspec": {
   "display_name": "Python 3",
   "language": "python",
   "name": "python3"
  },
  "language_info": {
   "codemirror_mode": {
    "name": "ipython",
    "version": 3
   },
   "file_extension": ".py",
   "mimetype": "text/x-python",
   "name": "python",
   "nbconvert_exporter": "python",
   "pygments_lexer": "ipython3",
   "version": "3.12.1"
  }
 },
 "nbformat": 4,
 "nbformat_minor": 5
}
